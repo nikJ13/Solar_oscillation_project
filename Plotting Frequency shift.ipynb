{
 "cells": [
  {
   "cell_type": "code",
   "execution_count": 1,
   "metadata": {},
   "outputs": [],
   "source": [
    "from urllib.request import urlopen\n",
    "import urllib.parse\n",
    "import ftplib\n",
    "import re \n",
    "import csv\n",
    "import pandas as pd\n",
    "import numpy as np\n",
    "import os\n",
    "import glob\n",
    "import matplotlib.pyplot as plt"
   ]
  },
  {
   "cell_type": "code",
   "execution_count": 2,
   "metadata": {},
   "outputs": [],
   "source": [
    "path3 = \"C:/sun_project/sun_project/Qnl.txt\"\n",
    "path = \"C:/sun_api/sunp\""
   ]
  },
  {
   "cell_type": "code",
   "execution_count": 3,
   "metadata": {},
   "outputs": [],
   "source": [
    "sh = []\n",
    "dataframe5 = pd.read_table(path3,delim_whitespace=True)\n",
    "dataframe5 = dataframe5[['n','l','Qnl']]\n",
    "dataframe10 = pd.read_csv('C:\\sun_api\\Common Modes.csv',index_col = None)\n",
    "s1 = pd.merge(dataframe5, dataframe10, how='inner', on=['n', 'l'])\n",
    "dataframe9 = pd.read_csv(path+\"\\Ref common modes.csv\",index_col = None)"
   ]
  },
  {
   "cell_type": "code",
   "execution_count": 15,
   "metadata": {},
   "outputs": [
    {
     "data": {
      "text/plain": [
       "n      int32\n",
       "l      int32\n",
       "Qnl    int32\n",
       "dtype: object"
      ]
     },
     "execution_count": 15,
     "metadata": {},
     "output_type": "execute_result"
    }
   ],
   "source": [
    "dataframe5 = dataframe5.astype(int)\n",
    "dataframe5.dtypes"
   ]
  },
  {
   "cell_type": "code",
   "execution_count": 7,
   "metadata": {},
   "outputs": [
    {
     "data": {
      "text/html": [
       "<div>\n",
       "<style scoped>\n",
       "    .dataframe tbody tr th:only-of-type {\n",
       "        vertical-align: middle;\n",
       "    }\n",
       "\n",
       "    .dataframe tbody tr th {\n",
       "        vertical-align: top;\n",
       "    }\n",
       "\n",
       "    .dataframe thead th {\n",
       "        text-align: right;\n",
       "    }\n",
       "</style>\n",
       "<table border=\"1\" class=\"dataframe\">\n",
       "  <thead>\n",
       "    <tr style=\"text-align: right;\">\n",
       "      <th></th>\n",
       "      <th>n</th>\n",
       "      <th>l</th>\n",
       "      <th>nu</th>\n",
       "      <th>dnu</th>\n",
       "    </tr>\n",
       "  </thead>\n",
       "  <tbody>\n",
       "    <tr>\n",
       "      <th>0</th>\n",
       "      <td>13.0</td>\n",
       "      <td>0.0</td>\n",
       "      <td>1957.5486</td>\n",
       "      <td>0.1224</td>\n",
       "    </tr>\n",
       "    <tr>\n",
       "      <th>1</th>\n",
       "      <td>14.0</td>\n",
       "      <td>0.0</td>\n",
       "      <td>2093.4177</td>\n",
       "      <td>0.0935</td>\n",
       "    </tr>\n",
       "    <tr>\n",
       "      <th>2</th>\n",
       "      <td>15.0</td>\n",
       "      <td>0.0</td>\n",
       "      <td>2228.7043</td>\n",
       "      <td>0.1106</td>\n",
       "    </tr>\n",
       "    <tr>\n",
       "      <th>3</th>\n",
       "      <td>16.0</td>\n",
       "      <td>0.0</td>\n",
       "      <td>2362.9749</td>\n",
       "      <td>0.1515</td>\n",
       "    </tr>\n",
       "    <tr>\n",
       "      <th>4</th>\n",
       "      <td>17.0</td>\n",
       "      <td>0.0</td>\n",
       "      <td>2496.4082</td>\n",
       "      <td>0.1409</td>\n",
       "    </tr>\n",
       "    <tr>\n",
       "      <th>...</th>\n",
       "      <td>...</td>\n",
       "      <td>...</td>\n",
       "      <td>...</td>\n",
       "      <td>...</td>\n",
       "    </tr>\n",
       "    <tr>\n",
       "      <th>1673</th>\n",
       "      <td>6.0</td>\n",
       "      <td>149.0</td>\n",
       "      <td>3398.0740</td>\n",
       "      <td>0.0690</td>\n",
       "    </tr>\n",
       "    <tr>\n",
       "      <th>1674</th>\n",
       "      <td>1.0</td>\n",
       "      <td>150.0</td>\n",
       "      <td>1762.7700</td>\n",
       "      <td>0.0140</td>\n",
       "    </tr>\n",
       "    <tr>\n",
       "      <th>1675</th>\n",
       "      <td>2.0</td>\n",
       "      <td>150.0</td>\n",
       "      <td>2142.7520</td>\n",
       "      <td>0.0270</td>\n",
       "    </tr>\n",
       "    <tr>\n",
       "      <th>1676</th>\n",
       "      <td>3.0</td>\n",
       "      <td>150.0</td>\n",
       "      <td>2493.0701</td>\n",
       "      <td>0.0530</td>\n",
       "    </tr>\n",
       "    <tr>\n",
       "      <th>1677</th>\n",
       "      <td>6.0</td>\n",
       "      <td>150.0</td>\n",
       "      <td>3406.4709</td>\n",
       "      <td>0.0770</td>\n",
       "    </tr>\n",
       "  </tbody>\n",
       "</table>\n",
       "<p>1678 rows × 4 columns</p>\n",
       "</div>"
      ],
      "text/plain": [
       "         n      l         nu     dnu\n",
       "0     13.0    0.0  1957.5486  0.1224\n",
       "1     14.0    0.0  2093.4177  0.0935\n",
       "2     15.0    0.0  2228.7043  0.1106\n",
       "3     16.0    0.0  2362.9749  0.1515\n",
       "4     17.0    0.0  2496.4082  0.1409\n",
       "...    ...    ...        ...     ...\n",
       "1673   6.0  149.0  3398.0740  0.0690\n",
       "1674   1.0  150.0  1762.7700  0.0140\n",
       "1675   2.0  150.0  2142.7520  0.0270\n",
       "1676   3.0  150.0  2493.0701  0.0530\n",
       "1677   6.0  150.0  3406.4709  0.0770\n",
       "\n",
       "[1678 rows x 4 columns]"
      ]
     },
     "execution_count": 7,
     "metadata": {},
     "output_type": "execute_result"
    }
   ],
   "source": [
    "all_files = glob.glob(path + \"/*.csv\")\n",
    "all_files.pop()\n",
    "t = pd.read_csv(all_files[1],index_col = None, names = [\"n\",\"l\",\"nu\",\"dnu\"])\n",
    "t"
   ]
  },
  {
   "cell_type": "code",
   "execution_count": 9,
   "metadata": {},
   "outputs": [
    {
     "name": "stdout",
     "output_type": "stream",
     "text": [
      "     Frequency shift\n",
      "0           0.045188\n",
      "1           0.053844\n",
      "2           0.058527\n",
      "3           0.061707\n",
      "4           0.064692\n",
      "..               ...\n",
      "243         0.044767\n",
      "244         0.037745\n",
      "245         0.040114\n",
      "246         0.042783\n",
      "247         0.046247\n",
      "\n",
      "[248 rows x 1 columns]\n"
     ]
    }
   ],
   "source": [
    "all_files = glob.glob(path + \"/*.csv\")\n",
    "all_files.pop()\n",
    "for ft in all_files:\n",
    "    w = pd.read_csv(ft,index_col = None, names = [\"n\",\"l\",\"nu\",\"dnu\"])\n",
    "    tb = pd.merge(s1,w,how = 'inner',on = ['n','l'])\n",
    "    sm1 = 0\n",
    "    sm2 = 0\n",
    "    for y in range(0,376):\n",
    "        sm1 = sm1 + (tb.iloc[y,2]*(tb.iloc[y,3]-dataframe9.iloc[y,2]))/((tb.iloc[y,4])**2)\n",
    "        sm2 = sm2 + (tb.iloc[y,2])/((tb.iloc[y,4])**2)\n",
    "    sh.append(sm1/sm2)\n",
    "fshift = pd.DataFrame({'Frequency shift':sh})\n",
    "print(fshift)"
   ]
  },
  {
   "cell_type": "code",
   "execution_count": 10,
   "metadata": {},
   "outputs": [
    {
     "name": "stdout",
     "output_type": "stream",
     "text": [
      "248\n"
     ]
    },
    {
     "data": {
      "text/html": [
       "<div>\n",
       "<style scoped>\n",
       "    .dataframe tbody tr th:only-of-type {\n",
       "        vertical-align: middle;\n",
       "    }\n",
       "\n",
       "    .dataframe tbody tr th {\n",
       "        vertical-align: top;\n",
       "    }\n",
       "\n",
       "    .dataframe thead th {\n",
       "        text-align: right;\n",
       "    }\n",
       "</style>\n",
       "<table border=\"1\" class=\"dataframe\">\n",
       "  <thead>\n",
       "    <tr style=\"text-align: right;\">\n",
       "      <th></th>\n",
       "      <th>1</th>\n",
       "      <th>2</th>\n",
       "      <th>3</th>\n",
       "      <th>4</th>\n",
       "      <th>5</th>\n",
       "      <th>6</th>\n",
       "      <th>7</th>\n",
       "      <th>8</th>\n",
       "      <th>9</th>\n",
       "      <th>10</th>\n",
       "      <th>...</th>\n",
       "      <th>239</th>\n",
       "      <th>240</th>\n",
       "      <th>241</th>\n",
       "      <th>242</th>\n",
       "      <th>243</th>\n",
       "      <th>244</th>\n",
       "      <th>245</th>\n",
       "      <th>246</th>\n",
       "      <th>247</th>\n",
       "      <th>248</th>\n",
       "    </tr>\n",
       "  </thead>\n",
       "  <tbody>\n",
       "    <tr>\n",
       "      <th>0</th>\n",
       "      <td>-0.075443</td>\n",
       "      <td>-0.075077</td>\n",
       "      <td>-0.077082</td>\n",
       "      <td>-0.080459</td>\n",
       "      <td>-0.086154</td>\n",
       "      <td>-0.089002</td>\n",
       "      <td>-0.093734</td>\n",
       "      <td>-0.099378</td>\n",
       "      <td>-0.100969</td>\n",
       "      <td>-0.094906</td>\n",
       "      <td>...</td>\n",
       "      <td>-0.107369</td>\n",
       "      <td>-0.109682</td>\n",
       "      <td>-0.107152</td>\n",
       "      <td>-0.104792</td>\n",
       "      <td>-0.103076</td>\n",
       "      <td>-0.103348</td>\n",
       "      <td>-0.102131</td>\n",
       "      <td>-0.101605</td>\n",
       "      <td>-0.10111</td>\n",
       "      <td>-0.103224</td>\n",
       "    </tr>\n",
       "  </tbody>\n",
       "</table>\n",
       "<p>1 rows × 248 columns</p>\n",
       "</div>"
      ],
      "text/plain": [
       "          1         2         3         4         5         6         7  \\\n",
       "0 -0.075443 -0.075077 -0.077082 -0.080459 -0.086154 -0.089002 -0.093734   \n",
       "\n",
       "          8         9        10  ...       239       240       241       242  \\\n",
       "0 -0.099378 -0.100969 -0.094906  ... -0.107369 -0.109682 -0.107152 -0.104792   \n",
       "\n",
       "        243       244       245       246      247       248  \n",
       "0 -0.103076 -0.103348 -0.102131 -0.101605 -0.10111 -0.103224  \n",
       "\n",
       "[1 rows x 248 columns]"
      ]
     },
     "execution_count": 10,
     "metadata": {},
     "output_type": "execute_result"
    }
   ],
   "source": [
    "st = pd.DataFrame({'1':[1]})\n",
    "print(len(fshift.values))\n",
    "y = 0\n",
    "for i in range(202,248):\n",
    "    y += 1\n",
    "    st[str(y)] = pd.Series(fshift.values[i],index = st.index)\n",
    "for j in range(0,202):\n",
    "    y += 1\n",
    "    st[str(y)] = pd.Series(fshift.values[j],index = st.index)\n",
    "st"
   ]
  },
  {
   "cell_type": "code",
   "execution_count": 13,
   "metadata": {},
   "outputs": [
    {
     "data": {
      "text/plain": [
       "Text(0, 0.5, 'Frequency Shift')"
      ]
     },
     "execution_count": 13,
     "metadata": {},
     "output_type": "execute_result"
    },
    {
     "data": {
      "image/png": "[encoded data removed]",
      "text/plain": [
       "<Figure size 432x288 with 1 Axes>"
      ]
     },
     "metadata": {
      "needs_background": "light"
     },
     "output_type": "display_data"
    }
   ],
   "source": [
    "st.columns = st.columns.astype(int)\n",
    "plt.plot(st.loc[0].values,'*',linestyle='-')\n",
    "plt.title(\"Frequency shift vs Time\")\n",
    "plt.xlabel(\"Time(Dates labelled as integers)\")\n",
    "plt.ylabel(\"Frequency Shift\")"
   ]
  },
  {
   "cell_type": "code",
   "execution_count": 18,
   "metadata": {},
   "outputs": [
    {
     "data": {
      "text/plain": [
       "[<matplotlib.lines.Line2D at 0x25b7f7ba508>]"
      ]
     },
     "execution_count": 18,
     "metadata": {},
     "output_type": "execute_result"
    },
    {
     "data": {
      "image/png": "[encoded data removed]",
      "text/plain": [
       "<Figure size 432x288 with 1 Axes>"
      ]
     },
     "metadata": {
      "needs_background": "light"
     },
     "output_type": "display_data"
    }
   ],
   "source": []
  },
  {
   "cell_type": "code",
   "execution_count": 25,
   "metadata": {},
   "outputs": [],
   "source": [
    "import plotly.graph_objects as px"
   ]
  },
  {
   "cell_type": "code",
   "execution_count": 17,
   "metadata": {},
   "outputs": [
    {
     "data": {
      "text/html": [
       "<div>\n",
       "<style scoped>\n",
       "    .dataframe tbody tr th:only-of-type {\n",
       "        vertical-align: middle;\n",
       "    }\n",
       "\n",
       "    .dataframe tbody tr th {\n",
       "        vertical-align: top;\n",
       "    }\n",
       "\n",
       "    .dataframe thead th {\n",
       "        text-align: right;\n",
       "    }\n",
       "</style>\n",
       "<table border=\"1\" class=\"dataframe\">\n",
       "  <thead>\n",
       "    <tr style=\"text-align: right;\">\n",
       "      <th></th>\n",
       "      <th>Frequency shift</th>\n",
       "    </tr>\n",
       "  </thead>\n",
       "  <tbody>\n",
       "    <tr>\n",
       "      <th>0</th>\n",
       "      <td>-0.075443</td>\n",
       "    </tr>\n",
       "    <tr>\n",
       "      <th>1</th>\n",
       "      <td>-0.075077</td>\n",
       "    </tr>\n",
       "    <tr>\n",
       "      <th>2</th>\n",
       "      <td>-0.077082</td>\n",
       "    </tr>\n",
       "    <tr>\n",
       "      <th>3</th>\n",
       "      <td>-0.080459</td>\n",
       "    </tr>\n",
       "    <tr>\n",
       "      <th>4</th>\n",
       "      <td>-0.086154</td>\n",
       "    </tr>\n",
       "    <tr>\n",
       "      <th>...</th>\n",
       "      <td>...</td>\n",
       "    </tr>\n",
       "    <tr>\n",
       "      <th>244</th>\n",
       "      <td>-0.102131</td>\n",
       "    </tr>\n",
       "    <tr>\n",
       "      <th>245</th>\n",
       "      <td>-0.101605</td>\n",
       "    </tr>\n",
       "    <tr>\n",
       "      <th>246</th>\n",
       "      <td>-0.101110</td>\n",
       "    </tr>\n",
       "    <tr>\n",
       "      <th>247</th>\n",
       "      <td>-0.103224</td>\n",
       "    </tr>\n",
       "    <tr>\n",
       "      <th>248</th>\n",
       "      <td>-0.075443</td>\n",
       "    </tr>\n",
       "  </tbody>\n",
       "</table>\n",
       "<p>249 rows × 1 columns</p>\n",
       "</div>"
      ],
      "text/plain": [
       "     Frequency shift\n",
       "0          -0.075443\n",
       "1          -0.075077\n",
       "2          -0.077082\n",
       "3          -0.080459\n",
       "4          -0.086154\n",
       "..               ...\n",
       "244        -0.102131\n",
       "245        -0.101605\n",
       "246        -0.101110\n",
       "247        -0.103224\n",
       "248        -0.075443\n",
       "\n",
       "[249 rows x 1 columns]"
      ]
     },
     "execution_count": 17,
     "metadata": {},
     "output_type": "execute_result"
    }
   ],
   "source": [
    "d1 = pd.read_csv('C:/sun_api/Freq_Shift.csv',index_col=None)\n",
    "d1"
   ]
  },
  {
   "cell_type": "code",
   "execution_count": 35,
   "metadata": {},
   "outputs": [
    {
     "data": {
      "application/vnd.plotly.v1+json": {
       "config": {
        "plotlyServerURL": "https://plot.ly"
       },
       "data": [
        {
         "mode": "lines+markers",
         "type": "scatter",
         "y": [
          -0.07544261120690582,
          -0.07507701160177126,
          -0.0770820897358315,
          -0.08045869204278422,
          -0.08615405207201292,
          -0.0890019735143274,
          -0.09373379756949042,
          -0.09937823508565242,
          -0.10096862225114778,
          -0.09490575740337794,
          -0.08708219760021113,
          -0.07527676390371693,
          -0.08188182882951417,
          -0.09035373508327553,
          -0.08996077213743968,
          -0.08890142369590841,
          -0.09285647299331397,
          -0.09366647106446024,
          -0.08984861492389695,
          -0.08425389698943808,
          -0.08478539895928162,
          -0.0761189650931648,
          -0.06484192689830552,
          -0.0537474610833364,
          -0.05201489022846766,
          -0.04807936045071914,
          -0.05286803523402296,
          -0.046741588452887735,
          -0.04178227581471455,
          -0.03134693002437778,
          -0.02353281810717989,
          -0.006979827143686617,
          0.002754014058470769,
          0.006152504364989689,
          0.00920831321535538,
          0.01072591958382774,
          0.011548602502369549,
          0.0044612512253569365,
          0.0004919587054057307,
          0.012020684821423305,
          0.032227819416342694,
          0.044767400156587325,
          0.037745260380109384,
          0.0401138598704858,
          0.04278297354471786,
          0.046246964722454494,
          0.0451882920025086,
          0.053844103215043765,
          0.058527146026323563,
          0.061706662688664336,
          0.06469223660791995,
          0.06843131852706197,
          0.06437554486118016,
          0.05608737155774165,
          0.056249261694558655,
          0.05298005918166451,
          0.03969488235508165,
          0.03486656315562262,
          0.03589980477689092,
          0.03593399431349078,
          0.031363339289994366,
          0.035571174953411604,
          0.045928100378326814,
          0.07086727322290927,
          0.08809027886552337,
          0.09820384490550793,
          0.09598124118963687,
          0.0910179431178309,
          0.07544984401148552,
          0.06297454128486847,
          0.048547617744416,
          0.04514252572399221,
          0.05079777689294735,
          0.05656806650806255,
          0.05137781281711793,
          0.04172213012488042,
          0.027788855487485702,
          0.012726409367606276,
          -0.0004464179675387932,
          -0.00843366601652004,
          -0.009032606714029652,
          -0.008330951079928388,
          -0.008870709926978061,
          -0.01009883012261868,
          -0.004545599962274158,
          -0.008095684101176084,
          -0.021214405611131013,
          -0.037287368037498235,
          -0.04219330808171386,
          -0.042991738365222285,
          -0.04716810007687682,
          -0.04338615689031782,
          -0.039226266698635874,
          -0.03710829121400405,
          -0.0351859105125058,
          -0.041757247938219715,
          -0.045604082505702366,
          -0.05531190494128057,
          -0.05933893180500294,
          -0.059682505931375564,
          -0.06011569508336079,
          -0.053825231235444734,
          -0.05689785491448245,
          -0.058366253356679276,
          -0.06729533327283545,
          -0.07149315200633878,
          -0.07627587031550867,
          -0.07937406588388049,
          -0.08458627585210747,
          -0.0828447496228246,
          -0.08177884935679308,
          -0.08423368893212982,
          -0.08309380006267203,
          -0.08328889830453631,
          -0.08164970967649217,
          -0.08200673323574109,
          -0.08035914015408836,
          -0.08933631543097448,
          -0.09577010669867267,
          -0.09903946933556368,
          -0.09626040758435024,
          -0.09429523007142993,
          -0.09495215255456917,
          -0.09868808858934032,
          -0.10265395486829078,
          -0.1033622455394813,
          -0.1038903038140138,
          -0.10173201039985053,
          -0.1012358432755319,
          -0.09982365649473986,
          -0.1016710431671533,
          -0.10300148529100572,
          -0.10293206994674496,
          -0.10112284670788986,
          -0.09993912687094664,
          -0.104684543519642,
          -0.10712568656439653,
          -0.1069001532344479,
          -0.10833484267709914,
          -0.1080128990144997,
          -0.10705060732898723,
          -0.10057503495540114,
          -0.09938594478586092,
          -0.09921237816673552,
          -0.1029729649458281,
          -0.09975169487404743,
          -0.10070834892566566,
          -0.09587732794903356,
          -0.08932950841965426,
          -0.08650284275063187,
          -0.08877275317081817,
          -0.08887799069861947,
          -0.0827321685606344,
          -0.0734790457020911,
          -0.06578925281706025,
          -0.06538493250524681,
          -0.06781575636019015,
          -0.06809972661562967,
          -0.0624212769940685,
          -0.053760507883889586,
          -0.04404139848975102,
          -0.0437974198123178,
          -0.046827706712712594,
          -0.04239664774182244,
          -0.024403413412102552,
          0.0006313062760620878,
          0.01391945137772887,
          0.0060531204691024534,
          -0.0138584252744115,
          -0.024525128546043568,
          -0.02606157239958772,
          -0.020469843069809247,
          -0.015900987230209482,
          -0.01609370505500334,
          -0.009542433728680886,
          -0.011739940913487049,
          -0.012232402547150486,
          -0.01804875905165132,
          -0.026689878611652403,
          -0.02860284108959055,
          -0.02462335579878493,
          -0.015912176894278148,
          -0.01127133937798568,
          -0.015533653631604862,
          -0.015933066864709727,
          -0.010883899959169,
          -0.001305562237770297,
          0.013089559111270656,
          0.013658378638682415,
          0.01499747166508196,
          0.012170257863575566,
          0.0010737746904456614,
          -0.003949514337081641,
          -0.008079715796072523,
          0.004931743102013307,
          0.01868054810868386,
          0.03171087016687333,
          0.02953295992269392,
          0.017971506109489076,
          0.0038458042312496474,
          0.0030611395671348487,
          -0.0010364657970255754,
          -0.004388952906985642,
          -0.013401911870821364,
          -0.01952297197653084,
          -0.02235721703114958,
          -0.02139487430385365,
          -0.023017771976237264,
          -0.03337630918926325,
          -0.04030255773396224,
          -0.050328509918764405,
          -0.05503609701661392,
          -0.05474245639075575,
          -0.056739422432229014,
          -0.05869887765809768,
          -0.06156649428971884,
          -0.06635319001558833,
          -0.0760797883495998,
          -0.08376045645540224,
          -0.08669195083999923,
          -0.08571387613291284,
          -0.0881820892368619,
          -0.08604521872778012,
          -0.0843792217090662,
          -0.0759893272211782,
          -0.06920707728318719,
          -0.06992061425501206,
          -0.08333656238773546,
          -0.09431622793914338,
          -0.0987832951686916,
          -0.09987994442892477,
          -0.0991304604917753,
          -0.09913157936076007,
          -0.0965987105851448,
          -0.09574934833609797,
          -0.09629540764976116,
          -0.0987055605438892,
          -0.10235289040987232,
          -0.10736939729459673,
          -0.10968201216709536,
          -0.10715208935833744,
          -0.10479210032777224,
          -0.1030761451715268,
          -0.10334781740671384,
          -0.10213097437640356,
          -0.10160495950604218,
          -0.10111005571819108,
          -0.10322378464808532,
          -0.07544261120690582
         ]
        }
       ],
       "layout": {
        "showlegend": true,
        "template": {
         "data": {
          "bar": [
           {
            "error_x": {
             "color": "#2a3f5f"
            },
            "error_y": {
             "color": "#2a3f5f"
            },
            "marker": {
             "line": {
              "color": "#E5ECF6",
              "width": 0.5
             }
            },
            "type": "bar"
           }
          ],
          "barpolar": [
           {
            "marker": {
             "line": {
              "color": "#E5ECF6",
              "width": 0.5
             }
            },
            "type": "barpolar"
           }
          ],
          "carpet": [
           {
            "aaxis": {
             "endlinecolor": "#2a3f5f",
             "gridcolor": "white",
             "linecolor": "white",
             "minorgridcolor": "white",
             "startlinecolor": "#2a3f5f"
            },
            "baxis": {
             "endlinecolor": "#2a3f5f",
             "gridcolor": "white",
             "linecolor": "white",
             "minorgridcolor": "white",
             "startlinecolor": "#2a3f5f"
            },
            "type": "carpet"
           }
          ],
          "choropleth": [
           {
            "colorbar": {
             "outlinewidth": 0,
             "ticks": ""
            },
            "type": "choropleth"
           }
          ],
          "contour": [
           {
            "colorbar": {
             "outlinewidth": 0,
             "ticks": ""
            },
            "colorscale": [
             [
              0,
              "#0d0887"
             ],
             [
              0.1111111111111111,
              "#46039f"
             ],
             [
              0.2222222222222222,
              "#7201a8"
             ],
             [
              0.3333333333333333,
              "#9c179e"
             ],
             [
              0.4444444444444444,
              "#bd3786"
             ],
             [
              0.5555555555555556,
              "#d8576b"
             ],
             [
              0.6666666666666666,
              "#ed7953"
             ],
             [
              0.7777777777777778,
              "#fb9f3a"
             ],
             [
              0.8888888888888888,
              "#fdca26"
             ],
             [
              1,
              "#f0f921"
             ]
            ],
            "type": "contour"
           }
          ],
          "contourcarpet": [
           {
            "colorbar": {
             "outlinewidth": 0,
             "ticks": ""
            },
            "type": "contourcarpet"
           }
          ],
          "heatmap": [
           {
            "colorbar": {
             "outlinewidth": 0,
             "ticks": ""
            },
            "colorscale": [
             [
              0,
              "#0d0887"
             ],
             [
              0.1111111111111111,
              "#46039f"
             ],
             [
              0.2222222222222222,
              "#7201a8"
             ],
             [
              0.3333333333333333,
              "#9c179e"
             ],
             [
              0.4444444444444444,
              "#bd3786"
             ],
             [
              0.5555555555555556,
              "#d8576b"
             ],
             [
              0.6666666666666666,
              "#ed7953"
             ],
             [
              0.7777777777777778,
              "#fb9f3a"
             ],
             [
              0.8888888888888888,
              "#fdca26"
             ],
             [
              1,
              "#f0f921"
             ]
            ],
            "type": "heatmap"
           }
          ],
          "heatmapgl": [
           {
            "colorbar": {
             "outlinewidth": 0,
             "ticks": ""
            },
            "colorscale": [
             [
              0,
              "#0d0887"
             ],
             [
              0.1111111111111111,
              "#46039f"
             ],
             [
              0.2222222222222222,
              "#7201a8"
             ],
             [
              0.3333333333333333,
              "#9c179e"
             ],
             [
              0.4444444444444444,
              "#bd3786"
             ],
             [
              0.5555555555555556,
              "#d8576b"
             ],
             [
              0.6666666666666666,
              "#ed7953"
             ],
             [
              0.7777777777777778,
              "#fb9f3a"
             ],
             [
              0.8888888888888888,
              "#fdca26"
             ],
             [
              1,
              "#f0f921"
             ]
            ],
            "type": "heatmapgl"
           }
          ],
          "histogram": [
           {
            "marker": {
             "colorbar": {
              "outlinewidth": 0,
              "ticks": ""
             }
            },
            "type": "histogram"
           }
          ],
          "histogram2d": [
           {
            "colorbar": {
             "outlinewidth": 0,
             "ticks": ""
            },
            "colorscale": [
             [
              0,
              "#0d0887"
             ],
             [
              0.1111111111111111,
              "#46039f"
             ],
             [
              0.2222222222222222,
              "#7201a8"
             ],
             [
              0.3333333333333333,
              "#9c179e"
             ],
             [
              0.4444444444444444,
              "#bd3786"
             ],
             [
              0.5555555555555556,
              "#d8576b"
             ],
             [
              0.6666666666666666,
              "#ed7953"
             ],
             [
              0.7777777777777778,
              "#fb9f3a"
             ],
             [
              0.8888888888888888,
              "#fdca26"
             ],
             [
              1,
              "#f0f921"
             ]
            ],
            "type": "histogram2d"
           }
          ],
          "histogram2dcontour": [
           {
            "colorbar": {
             "outlinewidth": 0,
             "ticks": ""
            },
            "colorscale": [
             [
              0,
              "#0d0887"
             ],
             [
              0.1111111111111111,
              "#46039f"
             ],
             [
              0.2222222222222222,
              "#7201a8"
             ],
             [
              0.3333333333333333,
              "#9c179e"
             ],
             [
              0.4444444444444444,
              "#bd3786"
             ],
             [
              0.5555555555555556,
              "#d8576b"
             ],
             [
              0.6666666666666666,
              "#ed7953"
             ],
             [
              0.7777777777777778,
              "#fb9f3a"
             ],
             [
              0.8888888888888888,
              "#fdca26"
             ],
             [
              1,
              "#f0f921"
             ]
            ],
            "type": "histogram2dcontour"
           }
          ],
          "mesh3d": [
           {
            "colorbar": {
             "outlinewidth": 0,
             "ticks": ""
            },
            "type": "mesh3d"
           }
          ],
          "parcoords": [
           {
            "line": {
             "colorbar": {
              "outlinewidth": 0,
              "ticks": ""
             }
            },
            "type": "parcoords"
           }
          ],
          "pie": [
           {
            "automargin": true,
            "type": "pie"
           }
          ],
          "scatter": [
           {
            "marker": {
             "colorbar": {
              "outlinewidth": 0,
              "ticks": ""
             }
            },
            "type": "scatter"
           }
          ],
          "scatter3d": [
           {
            "line": {
             "colorbar": {
              "outlinewidth": 0,
              "ticks": ""
             }
            },
            "marker": {
             "colorbar": {
              "outlinewidth": 0,
              "ticks": ""
             }
            },
            "type": "scatter3d"
           }
          ],
          "scattercarpet": [
           {
            "marker": {
             "colorbar": {
              "outlinewidth": 0,
              "ticks": ""
             }
            },
            "type": "scattercarpet"
           }
          ],
          "scattergeo": [
           {
            "marker": {
             "colorbar": {
              "outlinewidth": 0,
              "ticks": ""
             }
            },
            "type": "scattergeo"
           }
          ],
          "scattergl": [
           {
            "marker": {
             "colorbar": {
              "outlinewidth": 0,
              "ticks": ""
             }
            },
            "type": "scattergl"
           }
          ],
          "scattermapbox": [
           {
            "marker": {
             "colorbar": {
              "outlinewidth": 0,
              "ticks": ""
             }
            },
            "type": "scattermapbox"
           }
          ],
          "scatterpolar": [
           {
            "marker": {
             "colorbar": {
              "outlinewidth": 0,
              "ticks": ""
             }
            },
            "type": "scatterpolar"
           }
          ],
          "scatterpolargl": [
           {
            "marker": {
             "colorbar": {
              "outlinewidth": 0,
              "ticks": ""
             }
            },
            "type": "scatterpolargl"
           }
          ],
          "scatterternary": [
           {
            "marker": {
             "colorbar": {
              "outlinewidth": 0,
              "ticks": ""
             }
            },
            "type": "scatterternary"
           }
          ],
          "surface": [
           {
            "colorbar": {
             "outlinewidth": 0,
             "ticks": ""
            },
            "colorscale": [
             [
              0,
              "#0d0887"
             ],
             [
              0.1111111111111111,
              "#46039f"
             ],
             [
              0.2222222222222222,
              "#7201a8"
             ],
             [
              0.3333333333333333,
              "#9c179e"
             ],
             [
              0.4444444444444444,
              "#bd3786"
             ],
             [
              0.5555555555555556,
              "#d8576b"
             ],
             [
              0.6666666666666666,
              "#ed7953"
             ],
             [
              0.7777777777777778,
              "#fb9f3a"
             ],
             [
              0.8888888888888888,
              "#fdca26"
             ],
             [
              1,
              "#f0f921"
             ]
            ],
            "type": "surface"
           }
          ],
          "table": [
           {
            "cells": {
             "fill": {
              "color": "#EBF0F8"
             },
             "line": {
              "color": "white"
             }
            },
            "header": {
             "fill": {
              "color": "#C8D4E3"
             },
             "line": {
              "color": "white"
             }
            },
            "type": "table"
           }
          ]
         },
         "layout": {
          "annotationdefaults": {
           "arrowcolor": "#2a3f5f",
           "arrowhead": 0,
           "arrowwidth": 1
          },
          "coloraxis": {
           "colorbar": {
            "outlinewidth": 0,
            "ticks": ""
           }
          },
          "colorscale": {
           "diverging": [
            [
             0,
             "#8e0152"
            ],
            [
             0.1,
             "#c51b7d"
            ],
            [
             0.2,
             "#de77ae"
            ],
            [
             0.3,
             "#f1b6da"
            ],
            [
             0.4,
             "#fde0ef"
            ],
            [
             0.5,
             "#f7f7f7"
            ],
            [
             0.6,
             "#e6f5d0"
            ],
            [
             0.7,
             "#b8e186"
            ],
            [
             0.8,
             "#7fbc41"
            ],
            [
             0.9,
             "#4d9221"
            ],
            [
             1,
             "#276419"
            ]
           ],
           "sequential": [
            [
             0,
             "#0d0887"
            ],
            [
             0.1111111111111111,
             "#46039f"
            ],
            [
             0.2222222222222222,
             "#7201a8"
            ],
            [
             0.3333333333333333,
             "#9c179e"
            ],
            [
             0.4444444444444444,
             "#bd3786"
            ],
            [
             0.5555555555555556,
             "#d8576b"
            ],
            [
             0.6666666666666666,
             "#ed7953"
            ],
            [
             0.7777777777777778,
             "#fb9f3a"
            ],
            [
             0.8888888888888888,
             "#fdca26"
            ],
            [
             1,
             "#f0f921"
            ]
           ],
           "sequentialminus": [
            [
             0,
             "#0d0887"
            ],
            [
             0.1111111111111111,
             "#46039f"
            ],
            [
             0.2222222222222222,
             "#7201a8"
            ],
            [
             0.3333333333333333,
             "#9c179e"
            ],
            [
             0.4444444444444444,
             "#bd3786"
            ],
            [
             0.5555555555555556,
             "#d8576b"
            ],
            [
             0.6666666666666666,
             "#ed7953"
            ],
            [
             0.7777777777777778,
             "#fb9f3a"
            ],
            [
             0.8888888888888888,
             "#fdca26"
            ],
            [
             1,
             "#f0f921"
            ]
           ]
          },
          "colorway": [
           "#636efa",
           "#EF553B",
           "#00cc96",
           "#ab63fa",
           "#FFA15A",
           "#19d3f3",
           "#FF6692",
           "#B6E880",
           "#FF97FF",
           "#FECB52"
          ],
          "font": {
           "color": "#2a3f5f"
          },
          "geo": {
           "bgcolor": "white",
           "lakecolor": "white",
           "landcolor": "#E5ECF6",
           "showlakes": true,
           "showland": true,
           "subunitcolor": "white"
          },
          "hoverlabel": {
           "align": "left"
          },
          "hovermode": "closest",
          "mapbox": {
           "style": "light"
          },
          "paper_bgcolor": "white",
          "plot_bgcolor": "#E5ECF6",
          "polar": {
           "angularaxis": {
            "gridcolor": "white",
            "linecolor": "white",
            "ticks": ""
           },
           "bgcolor": "#E5ECF6",
           "radialaxis": {
            "gridcolor": "white",
            "linecolor": "white",
            "ticks": ""
           }
          },
          "scene": {
           "xaxis": {
            "backgroundcolor": "#E5ECF6",
            "gridcolor": "white",
            "gridwidth": 2,
            "linecolor": "white",
            "showbackground": true,
            "ticks": "",
            "zerolinecolor": "white"
           },
           "yaxis": {
            "backgroundcolor": "#E5ECF6",
            "gridcolor": "white",
            "gridwidth": 2,
            "linecolor": "white",
            "showbackground": true,
            "ticks": "",
            "zerolinecolor": "white"
           },
           "zaxis": {
            "backgroundcolor": "#E5ECF6",
            "gridcolor": "white",
            "gridwidth": 2,
            "linecolor": "white",
            "showbackground": true,
            "ticks": "",
            "zerolinecolor": "white"
           }
          },
          "shapedefaults": {
           "line": {
            "color": "#2a3f5f"
           }
          },
          "ternary": {
           "aaxis": {
            "gridcolor": "white",
            "linecolor": "white",
            "ticks": ""
           },
           "baxis": {
            "gridcolor": "white",
            "linecolor": "white",
            "ticks": ""
           },
           "bgcolor": "#E5ECF6",
           "caxis": {
            "gridcolor": "white",
            "linecolor": "white",
            "ticks": ""
           }
          },
          "title": {
           "x": 0.05
          },
          "xaxis": {
           "automargin": true,
           "gridcolor": "white",
           "linecolor": "white",
           "ticks": "",
           "title": {
            "standoff": 15
           },
           "zerolinecolor": "white",
           "zerolinewidth": 2
          },
          "yaxis": {
           "automargin": true,
           "gridcolor": "white",
           "linecolor": "white",
           "ticks": "",
           "title": {
            "standoff": 15
           },
           "zerolinecolor": "white",
           "zerolinewidth": 2
          }
         }
        },
        "title": {
         "text": "shift"
        }
       }
      },
      "text/html": [
       "<div>\n",
       "        \n",
       "        \n",
       "            <div id=\"97b0d995-16d6-43f4-8b19-4f9120e8aea6\" class=\"plotly-graph-div\" style=\"height:525px; width:100%;\"></div>\n",
       "            <script type=\"text/javascript\">\n",
       "                require([\"plotly\"], function(Plotly) {\n",
       "                    window.PLOTLYENV=window.PLOTLYENV || {};\n",
       "                    \n",
       "                if (document.getElementById(\"97b0d995-16d6-43f4-8b19-4f9120e8aea6\")) {\n",
       "                    Plotly.newPlot(\n",
       "                        '97b0d995-16d6-43f4-8b19-4f9120e8aea6',\n",
       "                        [{\"mode\": \"lines+markers\", \"type\": \"scatter\", \"y\": [-0.07544261120690582, -0.07507701160177126, -0.0770820897358315, -0.08045869204278422, -0.08615405207201292, -0.0890019735143274, -0.09373379756949042, -0.09937823508565242, -0.10096862225114778, -0.09490575740337794, -0.08708219760021113, -0.07527676390371693, -0.08188182882951417, -0.09035373508327553, -0.08996077213743968, -0.08890142369590841, -0.09285647299331397, -0.09366647106446024, -0.08984861492389695, -0.08425389698943808, -0.08478539895928162, -0.0761189650931648, -0.06484192689830552, -0.0537474610833364, -0.05201489022846766, -0.04807936045071914, -0.05286803523402296, -0.046741588452887735, -0.04178227581471455, -0.03134693002437778, -0.02353281810717989, -0.006979827143686617, 0.002754014058470769, 0.006152504364989689, 0.00920831321535538, 0.01072591958382774, 0.011548602502369549, 0.0044612512253569365, 0.0004919587054057307, 0.012020684821423305, 0.032227819416342694, 0.044767400156587325, 0.037745260380109384, 0.0401138598704858, 0.04278297354471786, 0.046246964722454494, 0.0451882920025086, 0.053844103215043765, 0.058527146026323563, 0.061706662688664336, 0.06469223660791995, 0.06843131852706197, 0.06437554486118016, 0.05608737155774165, 0.056249261694558655, 0.05298005918166451, 0.03969488235508165, 0.03486656315562262, 0.03589980477689092, 0.03593399431349078, 0.031363339289994366, 0.035571174953411604, 0.045928100378326814, 0.07086727322290927, 0.08809027886552337, 0.09820384490550793, 0.09598124118963687, 0.0910179431178309, 0.07544984401148552, 0.06297454128486847, 0.048547617744416, 0.04514252572399221, 0.05079777689294735, 0.05656806650806255, 0.05137781281711793, 0.04172213012488042, 0.027788855487485702, 0.012726409367606276, -0.0004464179675387932, -0.00843366601652004, -0.009032606714029652, -0.008330951079928388, -0.008870709926978061, -0.01009883012261868, -0.004545599962274158, -0.008095684101176084, -0.021214405611131013, -0.037287368037498235, -0.04219330808171386, -0.042991738365222285, -0.04716810007687682, -0.04338615689031782, -0.039226266698635874, -0.03710829121400405, -0.0351859105125058, -0.041757247938219715, -0.045604082505702366, -0.05531190494128057, -0.05933893180500294, -0.059682505931375564, -0.06011569508336079, -0.053825231235444734, -0.05689785491448245, -0.058366253356679276, -0.06729533327283545, -0.07149315200633878, -0.07627587031550867, -0.07937406588388049, -0.08458627585210747, -0.0828447496228246, -0.08177884935679308, -0.08423368893212982, -0.08309380006267203, -0.08328889830453631, -0.08164970967649217, -0.08200673323574109, -0.08035914015408836, -0.08933631543097448, -0.09577010669867267, -0.09903946933556368, -0.09626040758435024, -0.09429523007142993, -0.09495215255456917, -0.09868808858934032, -0.10265395486829078, -0.1033622455394813, -0.1038903038140138, -0.10173201039985053, -0.1012358432755319, -0.09982365649473986, -0.1016710431671533, -0.10300148529100572, -0.10293206994674496, -0.10112284670788986, -0.09993912687094664, -0.104684543519642, -0.10712568656439653, -0.1069001532344479, -0.10833484267709914, -0.1080128990144997, -0.10705060732898723, -0.10057503495540114, -0.09938594478586092, -0.09921237816673552, -0.1029729649458281, -0.09975169487404743, -0.10070834892566566, -0.09587732794903356, -0.08932950841965426, -0.08650284275063187, -0.08877275317081817, -0.08887799069861947, -0.0827321685606344, -0.0734790457020911, -0.06578925281706025, -0.06538493250524681, -0.06781575636019015, -0.06809972661562967, -0.0624212769940685, -0.053760507883889586, -0.04404139848975102, -0.0437974198123178, -0.046827706712712594, -0.04239664774182244, -0.024403413412102552, 0.0006313062760620878, 0.01391945137772887, 0.0060531204691024534, -0.0138584252744115, -0.024525128546043568, -0.02606157239958772, -0.020469843069809247, -0.015900987230209482, -0.01609370505500334, -0.009542433728680886, -0.011739940913487049, -0.012232402547150486, -0.01804875905165132, -0.026689878611652403, -0.02860284108959055, -0.02462335579878493, -0.015912176894278148, -0.01127133937798568, -0.015533653631604862, -0.015933066864709727, -0.010883899959169, -0.001305562237770297, 0.013089559111270656, 0.013658378638682415, 0.01499747166508196, 0.012170257863575566, 0.0010737746904456614, -0.003949514337081641, -0.008079715796072523, 0.004931743102013307, 0.01868054810868386, 0.03171087016687333, 0.02953295992269392, 0.017971506109489076, 0.0038458042312496474, 0.0030611395671348487, -0.0010364657970255754, -0.004388952906985642, -0.013401911870821364, -0.01952297197653084, -0.02235721703114958, -0.02139487430385365, -0.023017771976237264, -0.03337630918926325, -0.04030255773396224, -0.050328509918764405, -0.05503609701661392, -0.05474245639075575, -0.056739422432229014, -0.05869887765809768, -0.06156649428971884, -0.06635319001558833, -0.0760797883495998, -0.08376045645540224, -0.08669195083999923, -0.08571387613291284, -0.0881820892368619, -0.08604521872778012, -0.0843792217090662, -0.0759893272211782, -0.06920707728318719, -0.06992061425501206, -0.08333656238773546, -0.09431622793914338, -0.0987832951686916, -0.09987994442892477, -0.0991304604917753, -0.09913157936076007, -0.0965987105851448, -0.09574934833609797, -0.09629540764976116, -0.0987055605438892, -0.10235289040987232, -0.10736939729459673, -0.10968201216709536, -0.10715208935833744, -0.10479210032777224, -0.1030761451715268, -0.10334781740671384, -0.10213097437640356, -0.10160495950604218, -0.10111005571819108, -0.10322378464808532, -0.07544261120690582]}],\n",
       "                        {\"showlegend\": true, \"template\": {\"data\": {\"bar\": [{\"error_x\": {\"color\": \"#2a3f5f\"}, \"error_y\": {\"color\": \"#2a3f5f\"}, \"marker\": {\"line\": {\"color\": \"#E5ECF6\", \"width\": 0.5}}, \"type\": \"bar\"}], \"barpolar\": [{\"marker\": {\"line\": {\"color\": \"#E5ECF6\", \"width\": 0.5}}, \"type\": \"barpolar\"}], \"carpet\": [{\"aaxis\": {\"endlinecolor\": \"#2a3f5f\", \"gridcolor\": \"white\", \"linecolor\": \"white\", \"minorgridcolor\": \"white\", \"startlinecolor\": \"#2a3f5f\"}, \"baxis\": {\"endlinecolor\": \"#2a3f5f\", \"gridcolor\": \"white\", \"linecolor\": \"white\", \"minorgridcolor\": \"white\", \"startlinecolor\": \"#2a3f5f\"}, \"type\": \"carpet\"}], \"choropleth\": [{\"colorbar\": {\"outlinewidth\": 0, \"ticks\": \"\"}, \"type\": \"choropleth\"}], \"contour\": [{\"colorbar\": {\"outlinewidth\": 0, \"ticks\": \"\"}, \"colorscale\": [[0.0, \"#0d0887\"], [0.1111111111111111, \"#46039f\"], [0.2222222222222222, \"#7201a8\"], [0.3333333333333333, \"#9c179e\"], [0.4444444444444444, \"#bd3786\"], [0.5555555555555556, \"#d8576b\"], [0.6666666666666666, \"#ed7953\"], [0.7777777777777778, \"#fb9f3a\"], [0.8888888888888888, \"#fdca26\"], [1.0, \"#f0f921\"]], \"type\": \"contour\"}], \"contourcarpet\": [{\"colorbar\": {\"outlinewidth\": 0, \"ticks\": \"\"}, \"type\": \"contourcarpet\"}], \"heatmap\": [{\"colorbar\": {\"outlinewidth\": 0, \"ticks\": \"\"}, \"colorscale\": [[0.0, \"#0d0887\"], [0.1111111111111111, \"#46039f\"], [0.2222222222222222, \"#7201a8\"], [0.3333333333333333, \"#9c179e\"], [0.4444444444444444, \"#bd3786\"], [0.5555555555555556, \"#d8576b\"], [0.6666666666666666, \"#ed7953\"], [0.7777777777777778, \"#fb9f3a\"], [0.8888888888888888, \"#fdca26\"], [1.0, \"#f0f921\"]], \"type\": \"heatmap\"}], \"heatmapgl\": [{\"colorbar\": {\"outlinewidth\": 0, \"ticks\": \"\"}, \"colorscale\": [[0.0, \"#0d0887\"], [0.1111111111111111, \"#46039f\"], [0.2222222222222222, \"#7201a8\"], [0.3333333333333333, \"#9c179e\"], [0.4444444444444444, \"#bd3786\"], [0.5555555555555556, \"#d8576b\"], [0.6666666666666666, \"#ed7953\"], [0.7777777777777778, \"#fb9f3a\"], [0.8888888888888888, \"#fdca26\"], [1.0, \"#f0f921\"]], \"type\": \"heatmapgl\"}], \"histogram\": [{\"marker\": {\"colorbar\": {\"outlinewidth\": 0, \"ticks\": \"\"}}, \"type\": \"histogram\"}], \"histogram2d\": [{\"colorbar\": {\"outlinewidth\": 0, \"ticks\": \"\"}, \"colorscale\": [[0.0, \"#0d0887\"], [0.1111111111111111, \"#46039f\"], [0.2222222222222222, \"#7201a8\"], [0.3333333333333333, \"#9c179e\"], [0.4444444444444444, \"#bd3786\"], [0.5555555555555556, \"#d8576b\"], [0.6666666666666666, \"#ed7953\"], [0.7777777777777778, \"#fb9f3a\"], [0.8888888888888888, \"#fdca26\"], [1.0, \"#f0f921\"]], \"type\": \"histogram2d\"}], \"histogram2dcontour\": [{\"colorbar\": {\"outlinewidth\": 0, \"ticks\": \"\"}, \"colorscale\": [[0.0, \"#0d0887\"], [0.1111111111111111, \"#46039f\"], [0.2222222222222222, \"#7201a8\"], [0.3333333333333333, \"#9c179e\"], [0.4444444444444444, \"#bd3786\"], [0.5555555555555556, \"#d8576b\"], [0.6666666666666666, \"#ed7953\"], [0.7777777777777778, \"#fb9f3a\"], [0.8888888888888888, \"#fdca26\"], [1.0, \"#f0f921\"]], \"type\": \"histogram2dcontour\"}], \"mesh3d\": [{\"colorbar\": {\"outlinewidth\": 0, \"ticks\": \"\"}, \"type\": \"mesh3d\"}], \"parcoords\": [{\"line\": {\"colorbar\": {\"outlinewidth\": 0, \"ticks\": \"\"}}, \"type\": \"parcoords\"}], \"pie\": [{\"automargin\": true, \"type\": \"pie\"}], \"scatter\": [{\"marker\": {\"colorbar\": {\"outlinewidth\": 0, \"ticks\": \"\"}}, \"type\": \"scatter\"}], \"scatter3d\": [{\"line\": {\"colorbar\": {\"outlinewidth\": 0, \"ticks\": \"\"}}, \"marker\": {\"colorbar\": {\"outlinewidth\": 0, \"ticks\": \"\"}}, \"type\": \"scatter3d\"}], \"scattercarpet\": [{\"marker\": {\"colorbar\": {\"outlinewidth\": 0, \"ticks\": \"\"}}, \"type\": \"scattercarpet\"}], \"scattergeo\": [{\"marker\": {\"colorbar\": {\"outlinewidth\": 0, \"ticks\": \"\"}}, \"type\": \"scattergeo\"}], \"scattergl\": [{\"marker\": {\"colorbar\": {\"outlinewidth\": 0, \"ticks\": \"\"}}, \"type\": \"scattergl\"}], \"scattermapbox\": [{\"marker\": {\"colorbar\": {\"outlinewidth\": 0, \"ticks\": \"\"}}, \"type\": \"scattermapbox\"}], \"scatterpolar\": [{\"marker\": {\"colorbar\": {\"outlinewidth\": 0, \"ticks\": \"\"}}, \"type\": \"scatterpolar\"}], \"scatterpolargl\": [{\"marker\": {\"colorbar\": {\"outlinewidth\": 0, \"ticks\": \"\"}}, \"type\": \"scatterpolargl\"}], \"scatterternary\": [{\"marker\": {\"colorbar\": {\"outlinewidth\": 0, \"ticks\": \"\"}}, \"type\": \"scatterternary\"}], \"surface\": [{\"colorbar\": {\"outlinewidth\": 0, \"ticks\": \"\"}, \"colorscale\": [[0.0, \"#0d0887\"], [0.1111111111111111, \"#46039f\"], [0.2222222222222222, \"#7201a8\"], [0.3333333333333333, \"#9c179e\"], [0.4444444444444444, \"#bd3786\"], [0.5555555555555556, \"#d8576b\"], [0.6666666666666666, \"#ed7953\"], [0.7777777777777778, \"#fb9f3a\"], [0.8888888888888888, \"#fdca26\"], [1.0, \"#f0f921\"]], \"type\": \"surface\"}], \"table\": [{\"cells\": {\"fill\": {\"color\": \"#EBF0F8\"}, \"line\": {\"color\": \"white\"}}, \"header\": {\"fill\": {\"color\": \"#C8D4E3\"}, \"line\": {\"color\": \"white\"}}, \"type\": \"table\"}]}, \"layout\": {\"annotationdefaults\": {\"arrowcolor\": \"#2a3f5f\", \"arrowhead\": 0, \"arrowwidth\": 1}, \"coloraxis\": {\"colorbar\": {\"outlinewidth\": 0, \"ticks\": \"\"}}, \"colorscale\": {\"diverging\": [[0, \"#8e0152\"], [0.1, \"#c51b7d\"], [0.2, \"#de77ae\"], [0.3, \"#f1b6da\"], [0.4, \"#fde0ef\"], [0.5, \"#f7f7f7\"], [0.6, \"#e6f5d0\"], [0.7, \"#b8e186\"], [0.8, \"#7fbc41\"], [0.9, \"#4d9221\"], [1, \"#276419\"]], \"sequential\": [[0.0, \"#0d0887\"], [0.1111111111111111, \"#46039f\"], [0.2222222222222222, \"#7201a8\"], [0.3333333333333333, \"#9c179e\"], [0.4444444444444444, \"#bd3786\"], [0.5555555555555556, \"#d8576b\"], [0.6666666666666666, \"#ed7953\"], [0.7777777777777778, \"#fb9f3a\"], [0.8888888888888888, \"#fdca26\"], [1.0, \"#f0f921\"]], \"sequentialminus\": [[0.0, \"#0d0887\"], [0.1111111111111111, \"#46039f\"], [0.2222222222222222, \"#7201a8\"], [0.3333333333333333, \"#9c179e\"], [0.4444444444444444, \"#bd3786\"], [0.5555555555555556, \"#d8576b\"], [0.6666666666666666, \"#ed7953\"], [0.7777777777777778, \"#fb9f3a\"], [0.8888888888888888, \"#fdca26\"], [1.0, \"#f0f921\"]]}, \"colorway\": [\"#636efa\", \"#EF553B\", \"#00cc96\", \"#ab63fa\", \"#FFA15A\", \"#19d3f3\", \"#FF6692\", \"#B6E880\", \"#FF97FF\", \"#FECB52\"], \"font\": {\"color\": \"#2a3f5f\"}, \"geo\": {\"bgcolor\": \"white\", \"lakecolor\": \"white\", \"landcolor\": \"#E5ECF6\", \"showlakes\": true, \"showland\": true, \"subunitcolor\": \"white\"}, \"hoverlabel\": {\"align\": \"left\"}, \"hovermode\": \"closest\", \"mapbox\": {\"style\": \"light\"}, \"paper_bgcolor\": \"white\", \"plot_bgcolor\": \"#E5ECF6\", \"polar\": {\"angularaxis\": {\"gridcolor\": \"white\", \"linecolor\": \"white\", \"ticks\": \"\"}, \"bgcolor\": \"#E5ECF6\", \"radialaxis\": {\"gridcolor\": \"white\", \"linecolor\": \"white\", \"ticks\": \"\"}}, \"scene\": {\"xaxis\": {\"backgroundcolor\": \"#E5ECF6\", \"gridcolor\": \"white\", \"gridwidth\": 2, \"linecolor\": \"white\", \"showbackground\": true, \"ticks\": \"\", \"zerolinecolor\": \"white\"}, \"yaxis\": {\"backgroundcolor\": \"#E5ECF6\", \"gridcolor\": \"white\", \"gridwidth\": 2, \"linecolor\": \"white\", \"showbackground\": true, \"ticks\": \"\", \"zerolinecolor\": \"white\"}, \"zaxis\": {\"backgroundcolor\": \"#E5ECF6\", \"gridcolor\": \"white\", \"gridwidth\": 2, \"linecolor\": \"white\", \"showbackground\": true, \"ticks\": \"\", \"zerolinecolor\": \"white\"}}, \"shapedefaults\": {\"line\": {\"color\": \"#2a3f5f\"}}, \"ternary\": {\"aaxis\": {\"gridcolor\": \"white\", \"linecolor\": \"white\", \"ticks\": \"\"}, \"baxis\": {\"gridcolor\": \"white\", \"linecolor\": \"white\", \"ticks\": \"\"}, \"bgcolor\": \"#E5ECF6\", \"caxis\": {\"gridcolor\": \"white\", \"linecolor\": \"white\", \"ticks\": \"\"}}, \"title\": {\"x\": 0.05}, \"xaxis\": {\"automargin\": true, \"gridcolor\": \"white\", \"linecolor\": \"white\", \"ticks\": \"\", \"title\": {\"standoff\": 15}, \"zerolinecolor\": \"white\", \"zerolinewidth\": 2}, \"yaxis\": {\"automargin\": true, \"gridcolor\": \"white\", \"linecolor\": \"white\", \"ticks\": \"\", \"title\": {\"standoff\": 15}, \"zerolinecolor\": \"white\", \"zerolinewidth\": 2}}}, \"title\": {\"text\": \"shift\"}},\n",
       "                        {\"responsive\": true}\n",
       "                    ).then(function(){\n",
       "                            \n",
       "var gd = document.getElementById('97b0d995-16d6-43f4-8b19-4f9120e8aea6');\n",
       "var x = new MutationObserver(function (mutations, observer) {{\n",
       "        var display = window.getComputedStyle(gd).display;\n",
       "        if (!display || display === 'none') {{\n",
       "            console.log([gd, 'removed!']);\n",
       "            Plotly.purge(gd);\n",
       "            observer.disconnect();\n",
       "        }}\n",
       "}});\n",
       "\n",
       "// Listen for the removal of the full notebook cells\n",
       "var notebookContainer = gd.closest('#notebook-container');\n",
       "if (notebookContainer) {{\n",
       "    x.observe(notebookContainer, {childList: true});\n",
       "}}\n",
       "\n",
       "// Listen for the clearing of the current output cell\n",
       "var outputEl = gd.closest('.output');\n",
       "if (outputEl) {{\n",
       "    x.observe(outputEl, {childList: true});\n",
       "}}\n",
       "\n",
       "                        })\n",
       "                };\n",
       "                });\n",
       "            </script>\n",
       "        </div>"
      ]
     },
     "metadata": {},
     "output_type": "display_data"
    }
   ],
   "source": [
    "fig = px.Figure()\n",
    "fig.add_trace(px.Scatter(y=d1['Frequency shift'].values,mode=\"lines+markers\"))\n",
    "fig.update_layout(title_text=\"shift\",showlegend=True)\n",
    "fig.show()"
   ]
  },
  {
   "cell_type": "code",
   "execution_count": null,
   "metadata": {},
   "outputs": [],
   "source": []
  }
 ],
 "metadata": {
  "kernelspec": {
   "display_name": "Python 3",
   "language": "python",
   "name": "python3"
  },
  "language_info": {
   "codemirror_mode": {
    "name": "ipython",
    "version": 3
   },
   "file_extension": ".py",
   "mimetype": "text/x-python",
   "name": "python",
   "nbconvert_exporter": "python",
   "pygments_lexer": "ipython3",
   "version": "3.7.7"
  },
  "varInspector": {
   "cols": {
    "lenName": 16,
    "lenType": 16,
    "lenVar": 40
   },
   "kernels_config": {
    "python": {
     "delete_cmd_postfix": "",
     "delete_cmd_prefix": "del ",
     "library": "var_list.py",
     "varRefreshCmd": "print(var_dic_list())"
    },
    "r": {
     "delete_cmd_postfix": ") ",
     "delete_cmd_prefix": "rm(",
     "library": "var_list.r",
     "varRefreshCmd": "cat(var_dic_list()) "
    }
   },
   "types_to_exclude": [
    "module",
    "function",
    "builtin_function_or_method",
    "instance",
    "_Feature"
   ],
   "window_display": false
  }
 },
 "nbformat": 4,
 "nbformat_minor": 4
}
